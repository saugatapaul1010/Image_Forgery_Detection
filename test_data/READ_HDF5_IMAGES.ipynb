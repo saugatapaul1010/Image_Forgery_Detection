{
 "cells": [
  {
   "cell_type": "code",
   "execution_count": 1,
   "metadata": {},
   "outputs": [],
   "source": [
    "#http://machinelearninguru.com/deep_learning/data_preparation/hdf5/hdf5.html\n",
    "#https://www.kaggle.com/crawford/resize-and-save-images-as-hdf5-256x256\n",
    "\n",
    "import os\n",
    "from skimage import io\n",
    "import numpy as np\n",
    "import h5py\n",
    "from PIL import Image"
   ]
  },
  {
   "cell_type": "code",
   "execution_count": 2,
   "metadata": {},
   "outputs": [],
   "source": [
    "folder = \"test_images/\"\n",
    "files = os.listdir(folder)\n",
    "hdf5_path = 'test_imgs_v2.hdf5'\n",
    "\n",
    "n=len(files)\n",
    "\n",
    "#Check the order of data and chose proper data shape to save images\n",
    "train_shape = (n, 256, 256, 3)\n",
    "test_shape = (n,256,256)\n",
    "\n",
    "hdf5_file = h5py.File(hdf5_path, mode='w')\n",
    "hdf5_file.create_dataset(name=\"test_img\", \n",
    "                         shape=train_shape, \n",
    "                         compression=None)\n",
    "\n",
    "hdf5_file.create_dataset(name=\"test_labels\", \n",
    "                         shape=test_shape,\n",
    "                         compression=None)\n",
    "\n",
    "for i,file_name in enumerate(files):\n",
    "    \n",
    "    #Read the images\n",
    "    rgb_img = Image.open(folder+file_name)\n",
    "    rgb_img = rgb_img.resize((256,256))\n",
    "    \n",
    "    #Convert to grayscale\n",
    "    gray_img = rgb_img.convert('L')\n",
    "    \n",
    "    hdf5_file[\"test_img\"][i, ...] = rgb_img\n",
    "    hdf5_file[\"test_labels\"][i, ...] = gray_img\n",
    "\n",
    "hdf5_file.close()"
   ]
  },
  {
   "cell_type": "code",
   "execution_count": 3,
   "metadata": {},
   "outputs": [
    {
     "data": {
      "text/plain": [
       "30"
      ]
     },
     "execution_count": 3,
     "metadata": {},
     "output_type": "execute_result"
    }
   ],
   "source": [
    "n"
   ]
  },
  {
   "cell_type": "code",
   "execution_count": 4,
   "metadata": {},
   "outputs": [
    {
     "data": {
      "text/plain": [
       "ItemsViewHDF5(<HDF5 file \"test_imgs_feat_v2.hdf5\" (mode r)>)"
      ]
     },
     "execution_count": 4,
     "metadata": {},
     "output_type": "execute_result"
    }
   ],
   "source": [
    "#https://stackoverflow.com/questions/41627147/how-can-i-visualise-an-image-in-h5-format-data\n",
    "\n",
    "import h5py\n",
    "import numpy as np\n",
    "\n",
    "hdf5_path = 'test_imgs_feat_v2.hdf5'\n",
    "subtract_mean = False\n",
    "\n",
    "# open the hdf5 file\n",
    "hdf5_file = h5py.File(hdf5_path, \"r\")\n",
    "\n",
    "#Correct\n",
    "hdf5_file.items()"
   ]
  },
  {
   "cell_type": "code",
   "execution_count": 5,
   "metadata": {},
   "outputs": [],
   "source": [
    "freq4=np.array(hdf5_file[\"feat\"])"
   ]
  },
  {
   "cell_type": "code",
   "execution_count": null,
   "metadata": {},
   "outputs": [],
   "source": []
  },
  {
   "cell_type": "code",
   "execution_count": 6,
   "metadata": {},
   "outputs": [
    {
     "ename": "KeyError",
     "evalue": "\"Unable to open object (object 'test_img' doesn't exist)\"",
     "output_type": "error",
     "traceback": [
      "\u001b[0;31m---------------------------------------------------------------------------\u001b[0m",
      "\u001b[0;31mKeyError\u001b[0m                                  Traceback (most recent call last)",
      "\u001b[0;32m<ipython-input-6-d413d2d312f7>\u001b[0m in \u001b[0;36m<module>\u001b[0;34m\u001b[0m\n\u001b[1;32m      6\u001b[0m \u001b[0;34m\u001b[0m\u001b[0m\n\u001b[1;32m      7\u001b[0m \u001b[0;31m#Extracting the images\u001b[0m\u001b[0;34m\u001b[0m\u001b[0;34m\u001b[0m\u001b[0;34m\u001b[0m\u001b[0m\n\u001b[0;32m----> 8\u001b[0;31m \u001b[0mdset_img\u001b[0m \u001b[0;34m=\u001b[0m \u001b[0mhdf5_file\u001b[0m\u001b[0;34m[\u001b[0m\u001b[0;34m\"test_img\"\u001b[0m\u001b[0;34m]\u001b[0m\u001b[0;34m[\u001b[0m\u001b[0mn\u001b[0m\u001b[0;34m]\u001b[0m\u001b[0;34m\u001b[0m\u001b[0;34m\u001b[0m\u001b[0m\n\u001b[0m\u001b[1;32m      9\u001b[0m \u001b[0mdata_img\u001b[0m \u001b[0;34m=\u001b[0m \u001b[0mnp\u001b[0m\u001b[0;34m.\u001b[0m\u001b[0marray\u001b[0m\u001b[0;34m(\u001b[0m\u001b[0mdset_img\u001b[0m\u001b[0;34m[\u001b[0m\u001b[0;34m:\u001b[0m\u001b[0;34m,\u001b[0m\u001b[0;34m:\u001b[0m\u001b[0;34m,\u001b[0m\u001b[0;34m:\u001b[0m\u001b[0;34m]\u001b[0m\u001b[0;34m)\u001b[0m\u001b[0;34m\u001b[0m\u001b[0;34m\u001b[0m\u001b[0m\n\u001b[1;32m     10\u001b[0m \u001b[0mfile_img\u001b[0m \u001b[0;34m=\u001b[0m \u001b[0;34m'test_img.png'\u001b[0m\u001b[0;34m\u001b[0m\u001b[0;34m\u001b[0m\u001b[0m\n",
      "\u001b[0;32mh5py/_objects.pyx\u001b[0m in \u001b[0;36mh5py._objects.with_phil.wrapper\u001b[0;34m()\u001b[0m\n",
      "\u001b[0;32mh5py/_objects.pyx\u001b[0m in \u001b[0;36mh5py._objects.with_phil.wrapper\u001b[0;34m()\u001b[0m\n",
      "\u001b[0;32m~/anaconda3/lib/python3.7/site-packages/h5py/_hl/group.py\u001b[0m in \u001b[0;36m__getitem__\u001b[0;34m(self, name)\u001b[0m\n\u001b[1;32m    260\u001b[0m                 \u001b[0;32mraise\u001b[0m \u001b[0mValueError\u001b[0m\u001b[0;34m(\u001b[0m\u001b[0;34m\"Invalid HDF5 object reference\"\u001b[0m\u001b[0;34m)\u001b[0m\u001b[0;34m\u001b[0m\u001b[0;34m\u001b[0m\u001b[0m\n\u001b[1;32m    261\u001b[0m         \u001b[0;32melse\u001b[0m\u001b[0;34m:\u001b[0m\u001b[0;34m\u001b[0m\u001b[0;34m\u001b[0m\u001b[0m\n\u001b[0;32m--> 262\u001b[0;31m             \u001b[0moid\u001b[0m \u001b[0;34m=\u001b[0m \u001b[0mh5o\u001b[0m\u001b[0;34m.\u001b[0m\u001b[0mopen\u001b[0m\u001b[0;34m(\u001b[0m\u001b[0mself\u001b[0m\u001b[0;34m.\u001b[0m\u001b[0mid\u001b[0m\u001b[0;34m,\u001b[0m \u001b[0mself\u001b[0m\u001b[0;34m.\u001b[0m\u001b[0m_e\u001b[0m\u001b[0;34m(\u001b[0m\u001b[0mname\u001b[0m\u001b[0;34m)\u001b[0m\u001b[0;34m,\u001b[0m \u001b[0mlapl\u001b[0m\u001b[0;34m=\u001b[0m\u001b[0mself\u001b[0m\u001b[0;34m.\u001b[0m\u001b[0m_lapl\u001b[0m\u001b[0;34m)\u001b[0m\u001b[0;34m\u001b[0m\u001b[0;34m\u001b[0m\u001b[0m\n\u001b[0m\u001b[1;32m    263\u001b[0m \u001b[0;34m\u001b[0m\u001b[0m\n\u001b[1;32m    264\u001b[0m         \u001b[0motype\u001b[0m \u001b[0;34m=\u001b[0m \u001b[0mh5i\u001b[0m\u001b[0;34m.\u001b[0m\u001b[0mget_type\u001b[0m\u001b[0;34m(\u001b[0m\u001b[0moid\u001b[0m\u001b[0;34m)\u001b[0m\u001b[0;34m\u001b[0m\u001b[0;34m\u001b[0m\u001b[0m\n",
      "\u001b[0;32mh5py/_objects.pyx\u001b[0m in \u001b[0;36mh5py._objects.with_phil.wrapper\u001b[0;34m()\u001b[0m\n",
      "\u001b[0;32mh5py/_objects.pyx\u001b[0m in \u001b[0;36mh5py._objects.with_phil.wrapper\u001b[0;34m()\u001b[0m\n",
      "\u001b[0;32mh5py/h5o.pyx\u001b[0m in \u001b[0;36mh5py.h5o.open\u001b[0;34m()\u001b[0m\n",
      "\u001b[0;31mKeyError\u001b[0m: \"Unable to open object (object 'test_img' doesn't exist)\""
     ]
    }
   ],
   "source": [
    "import imageio\n",
    "import numpy as np\n",
    "import h5py\n",
    "\n",
    "n=25\n",
    "\n",
    "#Extracting the images\n",
    "dset_img = hdf5_file[\"test_img\"][n]\n",
    "data_img = np.array(dset_img[:,:,:])\n",
    "file_img = 'test_img.png'\n",
    "imageio.imwrite(file_img, data_img)\n",
    "\n",
    "#Extracting the image labels\n",
    "dset_labels = hdf5_file[\"test_labels\"][n]\n",
    "data_labels = np.array(dset_labels[:,:])\n",
    "file_labels = 'test_labels.png'\n",
    "imageio.imwrite(file_labels, data_labels)"
   ]
  },
  {
   "cell_type": "code",
   "execution_count": 3,
   "metadata": {},
   "outputs": [
    {
     "ename": "NameError",
     "evalue": "name 'Image' is not defined",
     "output_type": "error",
     "traceback": [
      "\u001b[0;31m---------------------------------------------------------------------------\u001b[0m",
      "\u001b[0;31mNameError\u001b[0m                                 Traceback (most recent call last)",
      "\u001b[0;32m<ipython-input-3-7a6e275754f7>\u001b[0m in \u001b[0;36m<module>\u001b[0;34m\u001b[0m\n\u001b[1;32m      1\u001b[0m \u001b[0;31m#Read the images\u001b[0m\u001b[0;34m\u001b[0m\u001b[0;34m\u001b[0m\u001b[0;34m\u001b[0m\u001b[0m\n\u001b[0;32m----> 2\u001b[0;31m \u001b[0mrgb_img\u001b[0m \u001b[0;34m=\u001b[0m \u001b[0mImage\u001b[0m\u001b[0;34m.\u001b[0m\u001b[0mopen\u001b[0m\u001b[0;34m(\u001b[0m\u001b[0;34m\"test10.jpg\"\u001b[0m\u001b[0;34m)\u001b[0m\u001b[0;34m\u001b[0m\u001b[0;34m\u001b[0m\u001b[0m\n\u001b[0m\u001b[1;32m      3\u001b[0m \u001b[0mgray_img\u001b[0m \u001b[0;34m=\u001b[0m \u001b[0mrgb_img\u001b[0m\u001b[0;34m.\u001b[0m\u001b[0mconvert\u001b[0m\u001b[0;34m(\u001b[0m\u001b[0;34m'L'\u001b[0m\u001b[0;34m)\u001b[0m\u001b[0;34m\u001b[0m\u001b[0;34m\u001b[0m\u001b[0m\n",
      "\u001b[0;31mNameError\u001b[0m: name 'Image' is not defined"
     ]
    }
   ],
   "source": [
    "#Read the images\n",
    "rgb_img = Image.open(\"test10.jpg\")\n",
    "gray_img = rgb_img.convert('L')"
   ]
  },
  {
   "cell_type": "code",
   "execution_count": null,
   "metadata": {},
   "outputs": [],
   "source": [
    "id id. id.' Id Id. Id.' ID"
   ]
  },
  {
   "cell_type": "code",
   "execution_count": 7,
   "metadata": {},
   "outputs": [
    {
     "data": {
      "text/plain": [
       "'\\'Knock and talk investigation \"involves officers knocking on the door of a house, identifying themselves as officers, asking to talk to the occupant about a criminal complaint, and eventually requesting permission to search the house.\" State v. Reinier, 628 N.W.2d 460, 466 (Iowa 2001). \"If successful, it allows police officers who lack probable cause to gain access to a house and conduct a search.\" Id.  Both federal and state appellate courts which have considered the question, including the United States Court of Appeals for the Seventh Circuit, have concluded that the knock and talk procedure does not, per se, violate the Fourth Amendment. See Scott v. State, 347 Ark. 767, 67 S.W.3d 567, 575 (2002); see also United States v. Johnson, 170 F.3d 708, 720 (7th Cir. 1999); United States. v. Jones, 239 F.3d 716, 720 (5th Cir. 2001); Scott v. State, 366 Md. 121, 782 A.2d 862, 872-73 (2001); People v. Frohriep, supra.\\''"
      ]
     },
     "execution_count": 7,
     "metadata": {},
     "output_type": "execute_result"
    }
   ],
   "source": [
    "text=\"\"\"'Knock and talk investigation \"involves officers knocking on the door of a house, identifying themselves as officers, asking to talk to the occupant about a criminal complaint, and eventually requesting permission to search the house.\" State v. Reinier, 628 N.W.2d 460, 466 (Iowa 2001). \"If successful, it allows police officers who lack probable cause to gain access to a house and conduct a search.\" Id.  Both federal and state appellate courts which have considered the question, including the United States Court of Appeals for the Seventh Circuit, have concluded that the knock and talk procedure does not, per se, violate the Fourth Amendment. See Scott v. State, 347 Ark. 767, 67 S.W.3d 567, 575 (2002); see also United States v. Johnson, 170 F.3d 708, 720 (7th Cir. 1999); United States. v. Jones, 239 F.3d 716, 720 (5th Cir. 2001); Scott v. State, 366 Md. 121, 782 A.2d 862, 872-73 (2001); People v. Frohriep, supra.'\"\"\"\n",
    "text"
   ]
  },
  {
   "cell_type": "code",
   "execution_count": 13,
   "metadata": {},
   "outputs": [],
   "source": [
    "\n"
   ]
  },
  {
   "cell_type": "code",
   "execution_count": null,
   "metadata": {},
   "outputs": [],
   "source": [
    "rgb_img.size"
   ]
  },
  {
   "cell_type": "code",
   "execution_count": 21,
   "metadata": {},
   "outputs": [
    {
     "data": {
      "text/plain": [
       "[(403, 406), (910, 913)]"
      ]
     },
     "execution_count": 21,
     "metadata": {},
     "output_type": "execute_result"
    }
   ],
   "source": [
    "text = \"This is our Id. and we have Id.\"\n",
    "text = \"\"\"'\\'Knock and talk investigation \"involves officers knocking on the door of a house, identifying themselves as officers, asking to talk to the occupant about a criminal complaint, and eventually requesting permission to search the house.\" State v. Reinier, 628 N.W.2d 460, 466 (Iowa 2001). \"If successful, it allows police officers who lack probable cause to gain access to a house and conduct a search.\" Id.  Both federal and state appellate courts which have considered the question, including the United States Court of Appeals for the Seventh Circuit, have concluded that the knock and talk procedure does not, per se, violate the Fourth Amendment. See Scott v. State, 347 Ark. 767, 67 S.W.3d 567, 575 (2002); see also United States v. Johnson, 170 F.3d 708, 720 (7th Cir. 1999); United States. v. Jones, 239 F.3d 716, 720 (5th Cir. 2001); Scott v. State, 366 Md. 121, 782 A.2d 862, 872-73 (2001); People v. Id. Frohriep, supra.\\''\"\"\"\n",
    "[x.span() for x in re.finditer(r'Id\\.', text)]"
   ]
  },
  {
   "cell_type": "code",
   "execution_count": 9,
   "metadata": {},
   "outputs": [
    {
     "name": "stdout",
     "output_type": "stream",
     "text": [
      "<callable_iterator object at 0x7f35c8838668>\n"
     ]
    }
   ],
   "source": [
    "import re  \n",
    "s = 'This is a test message from saugata.paul@gmail.com'\n",
    "iterator = re.finditer('\\S+@\\S+', s)   \n",
    "[]\n",
    "\n",
    "print(lst) "
   ]
  }
 ],
 "metadata": {
  "kernelspec": {
   "display_name": "Python 3",
   "language": "python",
   "name": "python3"
  },
  "language_info": {
   "codemirror_mode": {
    "name": "ipython",
    "version": 3
   },
   "file_extension": ".py",
   "mimetype": "text/x-python",
   "name": "python",
   "nbconvert_exporter": "python",
   "pygments_lexer": "ipython3",
   "version": "3.7.3"
  }
 },
 "nbformat": 4,
 "nbformat_minor": 2
}
